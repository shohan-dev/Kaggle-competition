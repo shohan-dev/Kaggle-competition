{
 "cells": [
  {
   "cell_type": "code",
   "execution_count": 2,
   "metadata": {},
   "outputs": [
    {
     "name": "stdout",
     "output_type": "stream",
     "text": [
      "Weighted Average Score: 0.3295161341053808\n"
     ]
    },
    {
     "ename": "",
     "evalue": "",
     "output_type": "error",
     "traceback": [
      "\u001b[1;31mThe Kernel crashed while executing code in the current cell or a previous cell. \n",
      "\u001b[1;31mPlease review the code in the cell(s) to identify a possible cause of the failure. \n",
      "\u001b[1;31mClick <a href='https://aka.ms/vscodeJupyterKernelCrash'>here</a> for more info. \n",
      "\u001b[1;31mView Jupyter <a href='command:jupyter.viewOutput'>log</a> for further details."
     ]
    }
   ],
   "source": [
    "import pandas as pd\n",
    "\n",
    "# Load the Kaggle competition submission CSV file\n",
    "submission_df = pd.read_csv('./submission.csv')\n",
    "\n",
    "# Assuming the submission CSV file has a column named 'score' containing scores\n",
    "# You should replace 'score' with the appropriate column name from your submission CSV file\n",
    "scores = submission_df['binds']\n",
    "\n",
    "# Calculate the weight of each submission based on its score\n",
    "# In this example, I'm assuming higher scores are better, you may need to adjust this depending on your competition\n",
    "weights = scores / scores.sum()\n",
    "\n",
    "# Calculate the weighted average\n",
    "weighted_average = (submission_df['binds'] * weights).sum()\n",
    "\n",
    "# Display the weighted average\n",
    "print(\"Weighted Average Score:\", weighted_average)\n"
   ]
  }
 ],
 "metadata": {
  "kernelspec": {
   "display_name": "Python 3",
   "language": "python",
   "name": "python3"
  },
  "language_info": {
   "codemirror_mode": {
    "name": "ipython",
    "version": 3
   },
   "file_extension": ".py",
   "mimetype": "text/x-python",
   "name": "python",
   "nbconvert_exporter": "python",
   "pygments_lexer": "ipython3",
   "version": "3.11.9"
  }
 },
 "nbformat": 4,
 "nbformat_minor": 2
}
