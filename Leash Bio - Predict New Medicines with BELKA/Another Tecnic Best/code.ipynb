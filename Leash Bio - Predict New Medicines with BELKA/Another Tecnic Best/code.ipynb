{
 "cells": [
  {
   "cell_type": "code",
   "execution_count": 4,
   "metadata": {},
   "outputs": [
    {
     "name": "stdout",
     "output_type": "stream",
     "text": [
      "\n",
      "---> Sum of weights = 1.05\n",
      "\n",
      "\n",
      "Final submission file\n",
      "\n"
     ]
    },
    {
     "data": {
      "text/html": [
       "<div><style>\n",
       ".dataframe > thead > tr,\n",
       ".dataframe > tbody > tr {\n",
       "  text-align: right;\n",
       "  white-space: pre-wrap;\n",
       "}\n",
       "</style>\n",
       "<small>shape: (10, 2)</small><table border=\"1\" class=\"dataframe\"><thead><tr><th>id</th><th>binds</th></tr><tr><td>i64</td><td>f64</td></tr></thead><tbody><tr><td>295246830</td><td>0.204613</td></tr><tr><td>295246831</td><td>0.061396</td></tr><tr><td>295246832</td><td>0.018264</td></tr><tr><td>295246833</td><td>0.323448</td></tr><tr><td>295246834</td><td>0.267971</td></tr><tr><td>295246835</td><td>0.108495</td></tr><tr><td>295246836</td><td>0.081115</td></tr><tr><td>295246837</td><td>0.026554</td></tr><tr><td>295246838</td><td>0.022241</td></tr><tr><td>295246839</td><td>0.206679</td></tr></tbody></table></div>"
      ],
      "text/plain": [
       "shape: (10, 2)\n",
       "┌───────────┬──────────┐\n",
       "│ id        ┆ binds    │\n",
       "│ ---       ┆ ---      │\n",
       "│ i64       ┆ f64      │\n",
       "╞═══════════╪══════════╡\n",
       "│ 295246830 ┆ 0.204613 │\n",
       "│ 295246831 ┆ 0.061396 │\n",
       "│ 295246832 ┆ 0.018264 │\n",
       "│ 295246833 ┆ 0.323448 │\n",
       "│ 295246834 ┆ 0.267971 │\n",
       "│ 295246835 ┆ 0.108495 │\n",
       "│ 295246836 ┆ 0.081115 │\n",
       "│ 295246837 ┆ 0.026554 │\n",
       "│ 295246838 ┆ 0.022241 │\n",
       "│ 295246839 ┆ 0.206679 │\n",
       "└───────────┴──────────┘"
      ]
     },
     "metadata": {},
     "output_type": "display_data"
    },
    {
     "name": "stdout",
     "output_type": "stream",
     "text": [
      "CPU times: total: 1.86 s\n",
      "Wall time: 1.21 s\n"
     ]
    }
   ],
   "source": [
    "%%time \n",
    "\n",
    "import polars as pl\n",
    "import polars.selectors as cs\n",
    "import numpy as np\n",
    "from gc import collect\n",
    "\n",
    "# Preparing the blend:-\n",
    "sub_fl  = pl.read_csv(f\"../sample_submission.csv\")\n",
    "target  = \"binds\"\n",
    "weights = [0.001, 0.049, 0.00, 0.05, 0.05, 0.05, 0.04, 0.10, 0.10, 0.36, 0.25] \n",
    "\n",
    "print(f\"\\n---> Sum of weights = {sum(weights):.2f}\\n\")\n",
    "\n",
    "sub1   = pl.read_parquet(f\"Submission_E1V1.parquet\")\n",
    "sub2   = pl.read_csv(f\"submission.csv\")\n",
    "sub3   = pl.read_parquet(f\"Submission_E1V2.parquet\")\n",
    "sub4   = pl.read_csv(f\"Submission_E1V3.csv\")\n",
    "sub5   = pl.read_csv(f\"Submission_E1V4.csv\")\n",
    "sub6   = pl.read_csv(f\"Submission_E1V5.csv\")\n",
    "sub7   = pl.read_csv(f\"Submission_E1V6.csv\")\n",
    "sub8   = pl.read_csv(f\"Submission_E1V7.csv\")\n",
    "sub9   = pl.read_csv(f\"Submission_E1V8.csv\")\n",
    "sub10  = pl.read_csv(f\"Submission_E1V9.csv\")\n",
    "sub11  = pl.read_csv(f\"Submission_E1V10.csv\")\n",
    "\n",
    "\n",
    "preds = np.average(np.c_[sub1.select(pl.col(target)).to_numpy(), \n",
    "                         sub2.select(pl.col(target)).to_numpy(),\n",
    "                         sub3.select(pl.col(target)).to_numpy(),\n",
    "                         sub4.select(pl.col(target)).to_numpy(),\n",
    "                         sub5.select(pl.col(target)).to_numpy(),\n",
    "                         sub6.select(pl.col(target)).to_numpy(),\n",
    "                         sub7.select(pl.col(target)).to_numpy(),\n",
    "                         sub8.select(pl.col(target)).to_numpy(),\n",
    "                         sub9.select(pl.col(target)).to_numpy(),\n",
    "                         sub10.select(pl.col(target)).to_numpy(),\n",
    "                         sub11.select(pl.col(target)).to_numpy(),\n",
    "                       ], \n",
    "                   axis    = 1, \n",
    "                   weights = weights,\n",
    "                  );\n",
    "\n",
    "sub_fl = sub_fl.with_columns(pl.Series(name = target, values = preds.flatten()));\n",
    "del sub1, sub2, preds;\n",
    "\n",
    "print(f\"\\nFinal submission file\\n\");\n",
    "display(sub_fl.head(10));\n",
    "sub_fl.select([\"id\", target]).write_csv(\"Final_submission.csv\");\n",
    "\n",
    "collect();"
   ]
  }
 ],
 "metadata": {
  "kernelspec": {
   "display_name": "Python 3",
   "language": "python",
   "name": "python3"
  },
  "language_info": {
   "codemirror_mode": {
    "name": "ipython",
    "version": 3
   },
   "file_extension": ".py",
   "mimetype": "text/x-python",
   "name": "python",
   "nbconvert_exporter": "python",
   "pygments_lexer": "ipython3",
   "version": "3.11.9"
  }
 },
 "nbformat": 4,
 "nbformat_minor": 2
}
